{
 "cells": [
  {
   "cell_type": "code",
   "execution_count": 1,
   "metadata": {},
   "outputs": [],
   "source": [
    "from main import CoinMarketCap"
   ]
  },
  {
   "cell_type": "code",
   "execution_count": 2,
   "metadata": {},
   "outputs": [
    {
     "name": "stdout",
     "output_type": "stream",
     "text": [
      "Help on class CoinMarketCap in module main:\n",
      "\n",
      "class CoinMarketCap(builtins.object)\n",
      " |  A class to scrape CoinMarketCap site and extract information about its top\n",
      " |  200 cryptocurrencies on August 28, 2023.\n",
      " |  \n",
      " |  Methods defined here:\n",
      " |  \n",
      " |  __init__(self)\n",
      " |      Initial the class (opening the Firefox browser)\n",
      " |  \n",
      " |  close(self)\n",
      " |      Close the driver\n",
      " |  \n",
      " |  get_detail_of_coins(self, coins: list[dict])\n",
      " |      Extracting the link of the Github page and tags related to each\n",
      " |      cryptocurrency, from the special page of that cryptocurrency on the\n",
      " |      site.\n",
      " |      \n",
      " |      Args:\n",
      " |          coins (list[dict]):\n",
      " |              A list containing the basic information of each cryptocurrency\n",
      " |              that we want to extract the link of the Github page and the tags\n",
      " |              related to it. If we want the link of the Github page and the\n",
      " |              related tags for all top 200 cryptocurrencies, we can pass the\n",
      " |              output of the get_tops method directly to this method.\n",
      " |      \n",
      " |      Attention:\n",
      " |          Due to the nature of the reviewed site, extracting tags related to\n",
      " |          some cryptocurrencies may encounter errors. In this method, after 3\n",
      " |          attempts to extract the tags, if we fail to extract the tags and\n",
      " |          encounter an error, by handling these errors, we save the\n",
      " |          information of those cryptocurrencies and return them in the output.\n",
      " |          You need to run this method several times (and each time on the\n",
      " |          currencies whose tag extraction failed in the previous step) to\n",
      " |          extract the tags associated with all cryptocurrencies.\n",
      " |      \n",
      " |      Returns:\n",
      " |          coins (list[dict]):\n",
      " |              A list of basic information about each cryptocurrency, with tags\n",
      " |              and a link to the corresponding Github page.\n",
      " |      \n",
      " |          without_tag_coins (list[dict]):\n",
      " |              A list of basic information about each cryptocurrency whose tags\n",
      " |              has not been mined.\n",
      " |  \n",
      " |  get_driver(self)\n",
      " |      Get the driver\n",
      " |  \n",
      " |  get_history_of_coins(self, coins: list[dict])\n",
      " |      Download all .csv files containing cryptocurrency information in the last\n",
      " |      365 days (from August 28, 2022 to August 28, 2023).\n",
      " |      \n",
      " |      Args:\n",
      " |          coins (list[dict]):\n",
      " |              A list containing the basic information of each cryptocurrency\n",
      " |              that we want to download its historical information. If we want\n",
      " |              the historical information of all the top 200 cryptocurrencies,\n",
      " |              we can pass the output of method ``get_tops`` directly to this\n",
      " |              method.\n",
      " |  \n",
      " |  get_tops(self, url='https://coinmarketcap.com/historical/20230825/')\n",
      " |      It takes the basic information of the top 200 cryptocurrencies and\n",
      " |      returns it in the form of a list.\n",
      " |      \n",
      " |      Args:\n",
      " |          url (str, optional): _description_. Defaults to\n",
      " |          \"https://coinmarketcap.com/historical/20230825/\".\n",
      " |      \n",
      " |      Returns:\n",
      " |          ``list``:\n",
      " |              A list containing the basic information of each cryptocurrency.\n",
      " |              The basic information of each cryptocurrency is stored as\n",
      " |              a dictionary in this list. This information includes the\n",
      " |              following:\n",
      " |                  - Rank: Cryptocurrency rank.\n",
      " |                  - Name: Cryptocurrency name.\n",
      " |                  - Symbol: Cryptocurrency abbreviation.\n",
      " |                  - MainLink: Link to the special cryptocurrency page on\n",
      " |                      the CoinMarketCap site.\n",
      " |                  - HistoricalLink: Link of the cryptocurrency historical\n",
      " |                      page on the CoinMarketCap site.\n",
      " |  \n",
      " |  ----------------------------------------------------------------------\n",
      " |  Static methods defined here:\n",
      " |  \n",
      " |  export_to_csv(filename: str, data: list, keys: list)\n",
      " |      Creating a .csv file from the scraped data.\n",
      " |      \n",
      " |      Args:\n",
      " |          filename (str): The name of our .csv file\n",
      " |          data (list): A list of information about each cryptocurrency\n",
      " |          keys (list): The headers of our .csv file\n",
      " |  \n",
      " |  ----------------------------------------------------------------------\n",
      " |  Data descriptors defined here:\n",
      " |  \n",
      " |  __dict__\n",
      " |      dictionary for instance variables (if defined)\n",
      " |  \n",
      " |  __weakref__\n",
      " |      list of weak references to the object (if defined)\n",
      "\n"
     ]
    }
   ],
   "source": [
    "help(CoinMarketCap)"
   ]
  },
  {
   "cell_type": "code",
   "execution_count": 3,
   "metadata": {},
   "outputs": [],
   "source": [
    "scraper = CoinMarketCap()"
   ]
  },
  {
   "cell_type": "code",
   "execution_count": 4,
   "metadata": {},
   "outputs": [
    {
     "name": "stdout",
     "output_type": "stream",
     "text": [
      "Help on method get_tops in module main:\n",
      "\n",
      "get_tops(url='https://coinmarketcap.com/historical/20230825/') method of main.CoinMarketCap instance\n",
      "    It takes the basic information of the top 200 cryptocurrencies and\n",
      "    returns it in the form of a list.\n",
      "    \n",
      "    Args:\n",
      "        url (str, optional): _description_. Defaults to\n",
      "        \"https://coinmarketcap.com/historical/20230825/\".\n",
      "    \n",
      "    Returns:\n",
      "        ``list``:\n",
      "            A list containing the basic information of each cryptocurrency.\n",
      "            The basic information of each cryptocurrency is stored as\n",
      "            a dictionary in this list. This information includes the\n",
      "            following:\n",
      "                - Rank: Cryptocurrency rank.\n",
      "                - Name: Cryptocurrency name.\n",
      "                - Symbol: Cryptocurrency abbreviation.\n",
      "                - MainLink: Link to the special cryptocurrency page on\n",
      "                    the CoinMarketCap site.\n",
      "                - HistoricalLink: Link of the cryptocurrency historical\n",
      "                    page on the CoinMarketCap site.\n",
      "\n"
     ]
    }
   ],
   "source": [
    "help(scraper.get_tops)"
   ]
  },
  {
   "cell_type": "code",
   "execution_count": 5,
   "metadata": {},
   "outputs": [],
   "source": [
    "top_coins = scraper.get_tops()"
   ]
  },
  {
   "cell_type": "code",
   "execution_count": 6,
   "metadata": {},
   "outputs": [
    {
     "name": "stdout",
     "output_type": "stream",
     "text": [
      "Help on method get_history_of_coins in module main:\n",
      "\n",
      "get_history_of_coins(coins: list[dict]) method of main.CoinMarketCap instance\n",
      "    Download all .csv files containing cryptocurrency information in the last\n",
      "    365 days (from August 28, 2022 to August 28, 2023).\n",
      "    \n",
      "    Args:\n",
      "        coins (list[dict]):\n",
      "            A list containing the basic information of each cryptocurrency\n",
      "            that we want to download its historical information. If we want\n",
      "            the historical information of all the top 200 cryptocurrencies,\n",
      "            we can pass the output of method ``get_tops`` directly to this\n",
      "            method.\n",
      "\n"
     ]
    }
   ],
   "source": [
    "help(scraper.get_history_of_coins)"
   ]
  },
  {
   "cell_type": "code",
   "execution_count": 7,
   "metadata": {},
   "outputs": [
    {
     "ename": "TimeoutException",
     "evalue": "Message: Navigation timed out after 300000 ms\nStacktrace:\nRemoteError@chrome://remote/content/shared/RemoteError.sys.mjs:8:8\nWebDriverError@chrome://remote/content/shared/webdriver/Errors.sys.mjs:188:5\nTimeoutError@chrome://remote/content/shared/webdriver/Errors.sys.mjs:675:5\nbail@chrome://remote/content/marionette/sync.sys.mjs:211:19\n",
     "output_type": "error",
     "traceback": [
      "\u001b[1;31m---------------------------------------------------------------------------\u001b[0m",
      "\u001b[1;31mTimeoutException\u001b[0m                          Traceback (most recent call last)",
      "Cell \u001b[1;32mIn[7], line 1\u001b[0m\n\u001b[1;32m----> 1\u001b[0m coin_history \u001b[39m=\u001b[39m scraper\u001b[39m.\u001b[39;49mget_history_of_coins(coins\u001b[39m=\u001b[39;49mtop_coins)\n",
      "File \u001b[1;32mc:\\Users\\AliBa\\Downloads\\coinmarketcap-scraping-main\\coinmarketcap-scraping-main\\main.py:83\u001b[0m, in \u001b[0;36mCoinMarketCap.get_history_of_coins\u001b[1;34m(self, coins)\u001b[0m\n\u001b[0;32m     81\u001b[0m \u001b[39mfor\u001b[39;00m coin \u001b[39min\u001b[39;00m coins:\n\u001b[0;32m     82\u001b[0m     historical_page_url \u001b[39m=\u001b[39m coin[\u001b[39m\"\u001b[39m\u001b[39mHistoricalLink\u001b[39m\u001b[39m\"\u001b[39m]\n\u001b[1;32m---> 83\u001b[0m     \u001b[39mself\u001b[39;49m\u001b[39m.\u001b[39;49mdriver\u001b[39m.\u001b[39;49mget(historical_page_url)\n\u001b[0;32m     84\u001b[0m     \u001b[39mself\u001b[39m\u001b[39m.\u001b[39mdriver\u001b[39m.\u001b[39mimplicitly_wait(\u001b[39m5\u001b[39m)\n\u001b[0;32m     85\u001b[0m     \u001b[39mself\u001b[39m\u001b[39m.\u001b[39mdriver\u001b[39m.\u001b[39mexecute_script(\u001b[39m\"\u001b[39m\u001b[39mwindow.scrollTo(0, 0);\u001b[39m\u001b[39m\"\u001b[39m)\n",
      "File \u001b[1;32mc:\\Users\\AliBa\\AppData\\Local\\Programs\\Python\\Python311\\Lib\\site-packages\\selenium\\webdriver\\remote\\webdriver.py:353\u001b[0m, in \u001b[0;36mWebDriver.get\u001b[1;34m(self, url)\u001b[0m\n\u001b[0;32m    351\u001b[0m \u001b[39mdef\u001b[39;00m \u001b[39mget\u001b[39m(\u001b[39mself\u001b[39m, url: \u001b[39mstr\u001b[39m) \u001b[39m-\u001b[39m\u001b[39m>\u001b[39m \u001b[39mNone\u001b[39;00m:\n\u001b[0;32m    352\u001b[0m \u001b[39m    \u001b[39m\u001b[39m\"\"\"Loads a web page in the current browser session.\"\"\"\u001b[39;00m\n\u001b[1;32m--> 353\u001b[0m     \u001b[39mself\u001b[39;49m\u001b[39m.\u001b[39;49mexecute(Command\u001b[39m.\u001b[39;49mGET, {\u001b[39m\"\u001b[39;49m\u001b[39murl\u001b[39;49m\u001b[39m\"\u001b[39;49m: url})\n",
      "File \u001b[1;32mc:\\Users\\AliBa\\AppData\\Local\\Programs\\Python\\Python311\\Lib\\site-packages\\selenium\\webdriver\\remote\\webdriver.py:344\u001b[0m, in \u001b[0;36mWebDriver.execute\u001b[1;34m(self, driver_command, params)\u001b[0m\n\u001b[0;32m    342\u001b[0m response \u001b[39m=\u001b[39m \u001b[39mself\u001b[39m\u001b[39m.\u001b[39mcommand_executor\u001b[39m.\u001b[39mexecute(driver_command, params)\n\u001b[0;32m    343\u001b[0m \u001b[39mif\u001b[39;00m response:\n\u001b[1;32m--> 344\u001b[0m     \u001b[39mself\u001b[39;49m\u001b[39m.\u001b[39;49merror_handler\u001b[39m.\u001b[39;49mcheck_response(response)\n\u001b[0;32m    345\u001b[0m     response[\u001b[39m\"\u001b[39m\u001b[39mvalue\u001b[39m\u001b[39m\"\u001b[39m] \u001b[39m=\u001b[39m \u001b[39mself\u001b[39m\u001b[39m.\u001b[39m_unwrap_value(response\u001b[39m.\u001b[39mget(\u001b[39m\"\u001b[39m\u001b[39mvalue\u001b[39m\u001b[39m\"\u001b[39m, \u001b[39mNone\u001b[39;00m))\n\u001b[0;32m    346\u001b[0m     \u001b[39mreturn\u001b[39;00m response\n",
      "File \u001b[1;32mc:\\Users\\AliBa\\AppData\\Local\\Programs\\Python\\Python311\\Lib\\site-packages\\selenium\\webdriver\\remote\\errorhandler.py:229\u001b[0m, in \u001b[0;36mErrorHandler.check_response\u001b[1;34m(self, response)\u001b[0m\n\u001b[0;32m    227\u001b[0m         alert_text \u001b[39m=\u001b[39m value[\u001b[39m\"\u001b[39m\u001b[39malert\u001b[39m\u001b[39m\"\u001b[39m]\u001b[39m.\u001b[39mget(\u001b[39m\"\u001b[39m\u001b[39mtext\u001b[39m\u001b[39m\"\u001b[39m)\n\u001b[0;32m    228\u001b[0m     \u001b[39mraise\u001b[39;00m exception_class(message, screen, stacktrace, alert_text)  \u001b[39m# type: ignore[call-arg]  # mypy is not smart enough here\u001b[39;00m\n\u001b[1;32m--> 229\u001b[0m \u001b[39mraise\u001b[39;00m exception_class(message, screen, stacktrace)\n",
      "\u001b[1;31mTimeoutException\u001b[0m: Message: Navigation timed out after 300000 ms\nStacktrace:\nRemoteError@chrome://remote/content/shared/RemoteError.sys.mjs:8:8\nWebDriverError@chrome://remote/content/shared/webdriver/Errors.sys.mjs:188:5\nTimeoutError@chrome://remote/content/shared/webdriver/Errors.sys.mjs:675:5\nbail@chrome://remote/content/marionette/sync.sys.mjs:211:19\n"
     ]
    }
   ],
   "source": [
    "coin_history = scraper.get_history_of_coins(coins=top_coins)"
   ]
  },
  {
   "cell_type": "code",
   "execution_count": null,
   "metadata": {},
   "outputs": [],
   "source": [
    "help(scraper.get_detail_of_coins)"
   ]
  },
  {
   "cell_type": "code",
   "execution_count": null,
   "metadata": {},
   "outputs": [],
   "source": [
    "coin_detail = scraper.get_detail_of_coins(coins=top_coins)"
   ]
  },
  {
   "cell_type": "code",
   "execution_count": null,
   "metadata": {},
   "outputs": [],
   "source": []
  }
 ],
 "metadata": {
  "kernelspec": {
   "display_name": "Python 3",
   "language": "python",
   "name": "python3"
  },
  "language_info": {
   "codemirror_mode": {
    "name": "ipython",
    "version": 3
   },
   "file_extension": ".py",
   "mimetype": "text/x-python",
   "name": "python",
   "nbconvert_exporter": "python",
   "pygments_lexer": "ipython3",
   "version": "3.11.3"
  },
  "orig_nbformat": 4
 },
 "nbformat": 4,
 "nbformat_minor": 2
}
